{
 "cells": [
  {
   "cell_type": "code",
   "execution_count": null,
   "metadata": {},
   "outputs": [],
   "source": [
    "from PIL import Image\n",
    "import os\n",
    "import shutil\n",
    "from long_caption import LongCaptioner\n",
    "from short_tag import ShortTagger\n",
    "from milabol import Milabol\n",
    "\n",
    "version = 2\n",
    "# model_name_or_path = '/data02/models/blip-large-long-cap'\n",
    "model_name_or_path = '/data02/models/blip2-opt-2.7b'\n",
    "wd_model_name_or_path = '/data02/models/wd-swinv2-tagger-v3'\n",
    "device = 'cuda:7'\n",
    "\n",
    "data_path = '/data02/users/lz/code/lora-scripts/data/lll/平面草图/10_data'"
   ]
  },
  {
   "cell_type": "code",
   "execution_count": null,
   "metadata": {},
   "outputs": [],
   "source": [
    "# counter = 0\n",
    "# # 遍历根文件夹下的所有文件和文件夹\n",
    "# for root, dirs, files in os.walk(data_path):\n",
    "#     for file in files:\n",
    "#         # 判断文件是否为图片文件（可以根据需要扩展图片格式）\n",
    "#         if file.endswith(('.jpg', '.jpeg', '.png')):\n",
    "#             # 构建源文件路径和目标文件路径\n",
    "#             source_file = os.path.join(root, file)\n",
    "#             target_file = os.path.join(data_path, repeat_name, f'{counter}.{os.path.splitext(source_file)[1]}')\n",
    "#             os.makedirs(os.path.dirname(target_file),exist_ok=True)\n",
    "#             # 移动文件\n",
    "#             shutil.move(source_file, target_file)\n",
    "#             counter += 1\n",
    "\n",
    "# for root, dirs, files in os.walk(data_path, topdown=False):\n",
    "#     for name in dirs:\n",
    "#         if '_' not in name:\n",
    "#             # 构建文件夹的完整路径\n",
    "#             folder_path = os.path.join(root, name)\n",
    "#             # 删除文件夹\n",
    "#             os.rmdir(folder_path)"
   ]
  },
  {
   "cell_type": "code",
   "execution_count": null,
   "metadata": {},
   "outputs": [],
   "source": [
    "milaboler = Milabol(model_name_or_path, wd_model_name_or_path, device, version=version)"
   ]
  },
  {
   "cell_type": "code",
   "execution_count": null,
   "metadata": {},
   "outputs": [],
   "source": [
    "milaboler.run(data_path,triggers=\"plane sketch\", general_thresh=0.2)"
   ]
  }
 ],
 "metadata": {
  "kernelspec": {
   "display_name": "Python 3",
   "language": "python",
   "name": "python3"
  },
  "language_info": {
   "codemirror_mode": {
    "name": "ipython",
    "version": 3
   },
   "file_extension": ".py",
   "mimetype": "text/x-python",
   "name": "python",
   "nbconvert_exporter": "python",
   "pygments_lexer": "ipython3",
   "version": "3.10.14"
  }
 },
 "nbformat": 4,
 "nbformat_minor": 2
}
